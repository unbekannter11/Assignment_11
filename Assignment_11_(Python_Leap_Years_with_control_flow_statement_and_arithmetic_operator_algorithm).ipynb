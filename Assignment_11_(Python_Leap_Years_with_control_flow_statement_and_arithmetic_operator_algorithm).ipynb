{
 "cells": [
  {
   "cell_type": "code",
   "execution_count": null,
   "id": "57c9f017",
   "metadata": {},
   "outputs": [],
   "source": [
    "year = int(input(\"Take a 4-digit year: \"))\n",
    "\n",
    "year % 400 == 0\n",
    "\n",
    "year % 4 == 0\n",
    "\n",
    "year % 100 == 0\n",
    "\n",
    "leap_year = (year % 400 == 0 and year % 4 == 0) or (year % 400 == 0 and year % 100 == 0) or\\\n",
    "(year % 4 == 0 and year % 100 != 0)\n",
    "if leap_year == True :\n",
    "    print(f\"{year} is a leap year.\")\n",
    "elif leap_year == False:\n",
    "    print(f\"{year} is not a leap year.\")\n"
   ]
  }
 ],
 "metadata": {
  "kernelspec": {
   "display_name": "Python 3",
   "language": "python",
   "name": "python3"
  },
  "language_info": {
   "codemirror_mode": {
    "name": "ipython",
    "version": 3
   },
   "file_extension": ".py",
   "mimetype": "text/x-python",
   "name": "python",
   "nbconvert_exporter": "python",
   "pygments_lexer": "ipython3",
   "version": "3.8.8"
  }
 },
 "nbformat": 4,
 "nbformat_minor": 5
}
